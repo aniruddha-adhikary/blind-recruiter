{
 "cells": [
  {
   "cell_type": "markdown",
   "id": "e7466516",
   "metadata": {},
   "source": [
    "# Setup"
   ]
  },
  {
   "cell_type": "markdown",
   "id": "4345df0a",
   "metadata": {},
   "source": [
    "## Setting up Output Format using Pydantic"
   ]
  },
  {
   "cell_type": "code",
   "execution_count": 1,
   "id": "b7ce4c53",
   "metadata": {},
   "outputs": [],
   "source": [
    "from pydantic import BaseModel, Field\n",
    "from typing import List, Optional\n",
    "from datetime import date\n",
    "\n",
    "\n",
    "class Experience(BaseModel):\n",
    "    title: Optional[str] = Field(description=\"Job title\")\n",
    "    organization: Optional[str] = Field(description=\"Organization name\")\n",
    "    start_date: Optional[date] = Field(description=\"Start date\")\n",
    "    end_date: Optional[date] = Field(\n",
    "        description=\"End date (Null if current job)\")\n",
    "    achievements: List[str] = Field(\n",
    "        description=\"List of achievements (Leave empty if none provided))\")\n",
    "    responsibilities: List[str] = Field(\n",
    "        description=\"List of responsibilities (Leave empty if none provided)))\")\n",
    "\n",
    "\n",
    "class Education(BaseModel):\n",
    "    credential_name: Optional[str] = Field(description=\"Credential name\")\n",
    "    institution_name: Optional[str] = Field(description=\"Institution name\")\n",
    "    start_date: Optional[date] = Field(description=\"Start date\")\n",
    "    end_date: Optional[date] = Field(description=\"End date\")\n",
    "    description: str = Field(description=\"Education description\")\n",
    "\n",
    "\n",
    "class Experiences(BaseModel):\n",
    "    experiences: List[Experience] = Field(description=\"List of experiences\")\n",
    "\n",
    "\n",
    "class EducationHistory(BaseModel):\n",
    "    education_history: List[Education] = Field(\n",
    "        description=\"List of education history\")\n",
    "\n",
    "\n",
    "class Skills(BaseModel):\n",
    "    skills: List[str] = Field(\n",
    "        description=\"List of skills (Programming Languages, Frameworks)\")\n",
    "\n",
    "\n",
    "class ProfileLinks(BaseModel):\n",
    "    github_url: str = Field(description=\"Github Profile URL\")\n",
    "    linkedin_url: str = Field(description=\"Linkedin Profile URL\")\n",
    "\n",
    "\n",
    "class ParsedResume(Experiences, EducationHistory, ProfileLinks):\n",
    "    pass\n"
   ]
  },
  {
   "cell_type": "markdown",
   "id": "db6a0445",
   "metadata": {},
   "source": [
    "## Large-Language Model (LLM)"
   ]
  },
  {
   "cell_type": "code",
   "execution_count": 2,
   "id": "43308aa4",
   "metadata": {},
   "outputs": [],
   "source": [
    "from langchain.llms import OpenAI\n",
    "\n",
    "model_name = \"text-davinci-003\"\n",
    "temperature = 0.0\n",
    "model = OpenAI(model_name=model_name, temperature=temperature)"
   ]
  },
  {
   "cell_type": "markdown",
   "id": "f4d8264d",
   "metadata": {},
   "source": [
    "# Trying it out"
   ]
  },
  {
   "cell_type": "markdown",
   "id": "74d09401",
   "metadata": {},
   "source": [
    "## Taking resume input"
   ]
  },
  {
   "cell_type": "code",
   "execution_count": 3,
   "id": "200d7da6",
   "metadata": {},
   "outputs": [],
   "source": [
    "with open('test_data/fictional-resume.md') as input_file:\n",
    "    resume_content = input_file.read()"
   ]
  },
  {
   "cell_type": "code",
   "execution_count": 4,
   "id": "335cd291",
   "metadata": {},
   "outputs": [
    {
     "name": "stdout",
     "output_type": "stream",
     "text": [
      "**Jonathon Bracken**\n",
      "\n",
      "1234 Silicon Valley Rd., San Jose, CA 95126\n",
      "(408) 123-4567 | jonathon.bracken@example.com\n",
      "LinkedIn: linkedin.com/in/jonathon-bracken\n",
      "\n",
      "**Objective**\n",
      "A versatile Software Engineer with over 10 years of diverse experience in front-end, back-end, and Android firmware engineering roles. Eager to apply problem-solving abilities and technical expertise in a challenging new role.\n",
      "\n",
      "---\n",
      "\n",
      "**Skills**\n",
      "\n",
      "- Programming languages: Java, JavaScript, Python, C++, C#, Kotlin, Swift, SQL\n",
      "- Web Technologies: HTML, CSS, React, AngularJS, Node.js, Express.js, REST APIs\n",
      "- Databases: MySQL, PostgreSQL, MongoDB, Redis\n",
      "- Android Firmware: Android Open Source Project (AOSP), Linux Kernel, Custom ROM Development\n",
      "- Tools: Git, Docker, Jenkins, Jira, Agile/Scrum methodologies\n",
      "- Soft Skills: Communication, Leadership, Problem Solving, Teamwork, Adaptability\n",
      "\n",
      "---\n",
      "\n",
      "**Work Experience**\n",
      "\n",
      "**Senior Software Engineer | HoloWare Inc.**\n",
      "*San Jose, CA | February 2021 - Present*\n",
      "\n",
      "- Lead the development team of HoloLens, a holographic glasses project, developing firmware based on Android Open Source Project (AOSP).\n",
      "- Enhanced system performance by optimizing Linux Kernel and effectively reduced boot-up time by 30%.\n",
      "- Assisted in the development of several in-house tools to facilitate rapid firmware testing and deployment.\n",
      "\n",
      "**Full Stack Developer | Nebula Dynamics**\n",
      "*Mountain View, CA | June 2017 - February 2021*\n",
      "\n",
      "- Contributed to a team responsible for developing Nebula Cloud Suite, a comprehensive suite of cloud-based tools for businesses.\n",
      "- Developed RESTful APIs using Node.js and Express, which served over 1M requests per day with an average response time of 200ms.\n",
      "- Created responsive and interactive front-end interfaces with React and AngularJS that increased user engagement by 50%.\n",
      "- Managed PostgreSQL and MongoDB databases, ensuring 99.99% uptime.\n",
      "\n",
      "**Software Engineer | RoboSphere**\n",
      "*San Francisco, CA | August 2013 - June 2017*\n",
      "\n",
      "- Worked as part of a team developing robotic navigation and control software.\n",
      "- Implemented algorithms for path planning, obstacle avoidance, and SLAM (Simultaneous Localization and Mapping) in C++ and Python.\n",
      "- Developed and maintained the company's main website, creating a responsive UI with HTML, CSS, and JavaScript.\n",
      "\n",
      "---\n",
      "\n",
      "**Education**\n",
      "\n",
      "**Bachelor of Science in Computer Science**\n",
      "*Stanford University, Stanford, CA*\n",
      "*September 2009 - June 2013*\n",
      "\n",
      "---\n",
      "\n",
      "**Certifications**\n",
      "\n",
      "- Oracle Certified Professional, Java SE 8 Programmer\n",
      "- Microsoft Certified: Azure Developer Associate\n",
      "\n",
      "---\n",
      "\n",
      "**References**\n",
      "\n",
      "Available upon request.\n",
      "\n"
     ]
    }
   ],
   "source": [
    "print(resume_content)"
   ]
  },
  {
   "cell_type": "markdown",
   "id": "2c7ce8b5",
   "metadata": {},
   "source": [
    "## Iterate over Queries"
   ]
  },
  {
   "cell_type": "code",
   "execution_count": 5,
   "id": "c7869353",
   "metadata": {},
   "outputs": [],
   "source": [
    "from langchain.chat_models import ChatOpenAI\n",
    "\n",
    "chat_llm = ChatOpenAI(model='gpt-3.5-turbo-16k')"
   ]
  },
  {
   "cell_type": "code",
   "execution_count": 6,
   "id": "3c63c30c",
   "metadata": {},
   "outputs": [
    {
     "name": "stderr",
     "output_type": "stream",
     "text": [
      "Fixing Output Skills: 100%|███████████████████████| 4/4 [00:49<00:00, 12.48s/it]\n"
     ]
    }
   ],
   "source": [
    "from langchain.output_parsers import PydanticOutputParser\n",
    "from langchain.output_parsers import OutputFixingParser\n",
    "from langchain.prompts import PromptTemplate\n",
    "from tqdm import tqdm\n",
    "import logging\n",
    "\n",
    "resume = dict()\n",
    "models = (Experiences, EducationHistory, ProfileLinks, Skills)\n",
    "progress_bar = tqdm(models)\n",
    "\n",
    "for pydantic_model in progress_bar:\n",
    "    progress_bar.set_description(\"Processing {}\".format(pydantic_model.__name__))\n",
    "    resume_output_parser = PydanticOutputParser(pydantic_object=pydantic_model)\n",
    "\n",
    "    prompt = PromptTemplate(\n",
    "        template=\"I am providing a JSON Schema followed by a resume in plain text. Format the plain text into the JSON format.\\n{format_instructions}\\n{resume}\\n\",\n",
    "        input_variables=[\"resume\"],\n",
    "        partial_variables={\"format_instructions\": resume_output_parser.get_format_instructions()},\n",
    "    )\n",
    "    \n",
    "    _input = prompt.format_prompt(resume=resume_content)\n",
    "    \n",
    "    output = model(_input.to_string())\n",
    "    \n",
    "    progress_bar.set_description(\"Fixing Output {}\".format(pydantic_model.__name__))\n",
    "    output_fixing_parser = OutputFixingParser.from_llm(parser=resume_output_parser, llm=chat_llm)\n",
    "    \n",
    "    resume.update(output_fixing_parser.parse(output).dict())"
   ]
  },
  {
   "cell_type": "code",
   "execution_count": 7,
   "id": "22741a94",
   "metadata": {},
   "outputs": [
    {
     "name": "stdout",
     "output_type": "stream",
     "text": [
      "{\n",
      "  \"experiences\": [\n",
      "    {\n",
      "      \"title\": \"Senior Software Engineer\",\n",
      "      \"organization\": \"HoloWare Inc.\",\n",
      "      \"start_date\": \"2020-02-01\",\n",
      "      \"end_date\": null,\n",
      "      \"achievements\": [\n",
      "        \"Lead the development team of HoloLens, a holographic glasses project, developing firmware based on Android Open Source Project (AOSP).\",\n",
      "        \"Enhanced system performance by optimizing Linux Kernel and effectively reduced boot-up time by 30%.\",\n",
      "        \"Assisted in the development of several in-house tools to facilitate rapid firmware testing and deployment.\"\n",
      "      ],\n",
      "      \"responsibilities\": []\n",
      "    },\n",
      "    {\n",
      "      \"title\": \"Full Stack Developer\",\n",
      "      \"organization\": \"Nebula Dynamics\",\n",
      "      \"start_date\": \"2017-06-01\",\n",
      "      \"end_date\": \"2020-02-01\",\n",
      "      \"achievements\": [\n",
      "        \"Developed RESTful APIs using Node.js and Express, which served over 1M requests per day with an average response time of 200ms.\",\n",
      "        \"Created a scalable web application using React and Redux that improved user experience and reduced bounce rate by 20%.\",\n",
      "        \"Collaborated with cross-functional teams to design and implement new features based on user feedback.\"\n",
      "      ],\n",
      "      \"responsibilities\": [\n",
      "        \"Developed and maintained backend services using Java and Spring Boot.\",\n",
      "        \"Performed code reviews and provided constructive feedback to team members.\",\n",
      "        \"Participated in daily stand-up meetings and sprint planning sessions.\"\n",
      "      ]\n",
      "    }\n",
      "  ],\n",
      "  \"education_history\": [\n",
      "    {\n",
      "      \"credential_name\": \"Bachelor of Science in Computer Science\",\n",
      "      \"institution_name\": \"Stanford University, Stanford, CA\",\n",
      "      \"start_date\": \"2009-09-01\",\n",
      "      \"end_date\": \"2013-06-01\",\n",
      "      \"description\": \"Bachelor of Science in Computer Science\"\n",
      "    }\n",
      "  ],\n",
      "  \"github_url\": \"https://github.com/jonathon-bracken\",\n",
      "  \"linkedin_url\": \"https://www.linkedin.com/in/jonathon-bracken\",\n",
      "  \"skills\": [\n",
      "    \"Java\",\n",
      "    \"JavaScript\",\n",
      "    \"Python\",\n",
      "    \"C++\",\n",
      "    \"C#\",\n",
      "    \"Kotlin\",\n",
      "    \"Swift\",\n",
      "    \"SQL\",\n",
      "    \"HTML\",\n",
      "    \"CSS\",\n",
      "    \"React\",\n",
      "    \"AngularJS\",\n",
      "    \"Node.js\",\n",
      "    \"Express.js\",\n",
      "    \"REST APIs\",\n",
      "    \"MySQL\",\n",
      "    \"PostgreSQL\",\n",
      "    \"MongoDB\",\n",
      "    \"Redis\",\n",
      "    \"Android Open Source Project (AOSP)\",\n",
      "    \"Linux Kernel\",\n",
      "    \"Custom ROM Development\",\n",
      "    \"Git\",\n",
      "    \"Docker\",\n",
      "    \"Jenkins\",\n",
      "    \"Jira\",\n",
      "    \"Agile/Scrum methodologies\",\n",
      "    \"Communication\",\n",
      "    \"Leadership\",\n",
      "    \"Problem Solving\",\n",
      "    \"Teamwork\",\n",
      "    \"Adaptability\"\n",
      "  ]\n",
      "}\n"
     ]
    }
   ],
   "source": [
    "import json\n",
    "\n",
    "json_formatted_str = json.dumps(resume, indent=2, default=str)\n",
    "print(json_formatted_str)"
   ]
  },
  {
   "cell_type": "code",
   "execution_count": null,
   "id": "c5371878",
   "metadata": {},
   "outputs": [],
   "source": []
  }
 ],
 "metadata": {
  "kernelspec": {
   "display_name": "Python 3 (ipykernel)",
   "language": "python",
   "name": "python3"
  },
  "language_info": {
   "codemirror_mode": {
    "name": "ipython",
    "version": 3
   },
   "file_extension": ".py",
   "mimetype": "text/x-python",
   "name": "python",
   "nbconvert_exporter": "python",
   "pygments_lexer": "ipython3",
   "version": "3.11.4"
  }
 },
 "nbformat": 4,
 "nbformat_minor": 5
}
