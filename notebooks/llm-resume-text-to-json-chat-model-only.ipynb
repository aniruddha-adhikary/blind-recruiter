{
 "cells": [
  {
   "cell_type": "markdown",
   "id": "d641d03c",
   "metadata": {},
   "source": [
    "# Introduction\n",
    "\n",
    "This notebook explores how we can parse Resume's from unstructured into a structured document. This initial step allows us to perform to follow-up steps of redaction and reconstruction. We start from **[Resume as Plain Text]** and End at **[Resume as JSON]**.\n",
    "\n",
    "![](https://raw.githubusercontent.com/aniruddha-adhikary/blind-recruiter/main/_docs/flow-diagram.drawio.png)"
   ]
  },
  {
   "cell_type": "markdown",
   "id": "4345df0a",
   "metadata": {},
   "source": [
    "## Setting up Output Format using Pydantic\n",
    "\n",
    "Setup `pydantic` models to for a Resume. Pydantic allows us define the data models precisely, and the descriptions would be used to feed OpenAI \"meaning\" of the fields.\n",
    "\n",
    "I hesitated to use the [Structured output parser](https://python.langchain.com/docs/modules/model_io/output_parsers/structured) because I needed to define complex structures involving nested lists.\n",
    "\n",
    "References:\n",
    " - https://docs.pydantic.dev/latest/\n",
    " - https://python.langchain.com/docs/modules/model_io/output_parsers/pydantic"
   ]
  },
  {
   "cell_type": "code",
   "execution_count": 1,
   "id": "b7ce4c53",
   "metadata": {},
   "outputs": [],
   "source": [
    "from pydantic import BaseModel, Field\n",
    "from typing import List, Optional\n",
    "from datetime import date\n",
    "from enum import Enum\n",
    "\n",
    "class EducationLevel(str, Enum):\n",
    "    primary_school = \"primary_school\"\n",
    "    secondary_school = \"secondary_school\"\n",
    "    junior_college = \"junior_college\"\n",
    "    university = \"university\"\n",
    "    unknown = \"unknown\"\n",
    "\n",
    "\n",
    "class Experience(BaseModel):\n",
    "    title: Optional[str] = Field(description=\"Job title\")\n",
    "    organization: Optional[str] = Field(description=\"Organization name\")\n",
    "    start_date: Optional[date] = Field(description=\"Start date\")\n",
    "    end_date: Optional[date] = Field(\n",
    "        description=\"End date (Null if current job)\"\n",
    "    )\n",
    "    achievements: List[str] = Field(\n",
    "        description=\"List of achievements, succint (Leave empty if none provided))\"\n",
    "    )\n",
    "    responsibilities: List[str] = Field(\n",
    "        description=\"List of responsibilities (Leave empty if none provided)))\"\n",
    "    )\n",
    "\n",
    "\n",
    "class Education(BaseModel):\n",
    "    education_level: Optional[EducationLevel] = Field(\n",
    "        description=\"Must be any of the following values: {}\".format([e.value for e in EducationLevel])\n",
    "    )\n",
    "    credential_name: Optional[str] = Field(description=\"Credential name\")\n",
    "    institution_name: Optional[str] = Field(description=\"Institution name\")\n",
    "    start_date: Optional[date] = Field(description=\"Start date\")\n",
    "    end_date: Optional[date] = Field(description=\"End date\")\n",
    "    description: Optional[str] = Field(description=\"Education description\")\n",
    "\n",
    "\n",
    "class Experiences(BaseModel):\n",
    "    experiences: List[Experience] = Field(description=\"List of experiences\")\n",
    "\n",
    "\n",
    "class EducationHistory(BaseModel):\n",
    "    education_history: List[Education] = Field(\n",
    "        description=\"List of education history\"\n",
    "    )\n",
    "\n",
    "\n",
    "class Skills(BaseModel):\n",
    "    skills: List[str] = Field(\n",
    "        description=\"List of skills (Programming Languages, Frameworks)\"\n",
    "    )\n",
    "\n",
    "\n",
    "class Certifications(BaseModel):\n",
    "    certifications: List[str] = Field(\n",
    "        description=\"List of Certifications or Professional Credentials\"\n",
    "    )\n",
    "\n",
    "class ParsedResume(Certifications, Skills, EducationHistory, Experiences):\n",
    "    pass\n"
   ]
  },
  {
   "cell_type": "markdown",
   "id": "b7ed5a1b",
   "metadata": {},
   "source": [
    "Create an output parser based on the composed `ParsedResume` model."
   ]
  },
  {
   "cell_type": "code",
   "execution_count": 2,
   "id": "d2f1e0b2",
   "metadata": {},
   "outputs": [],
   "source": [
    "from langchain.output_parsers import PydanticOutputParser\n",
    "\n",
    "resume_output_parser = PydanticOutputParser(pydantic_object=ParsedResume)"
   ]
  },
  {
   "cell_type": "markdown",
   "id": "db6a0445",
   "metadata": {},
   "source": [
    "## Large-Language Model (LLM)\n",
    "\n",
    "I have chosen to use `OpenAI GPT-3.5`, this specific variant supports upto 16_000 tokens. Enough for us to fit in the data model alongside a resume. The only reason behind using `gpt-3.5-turbo-16k` instead of `text-davinci-003` is the token size limit."
   ]
  },
  {
   "cell_type": "code",
   "execution_count": 3,
   "id": "cb176d60",
   "metadata": {},
   "outputs": [],
   "source": [
    "from langchain.chat_models import ChatOpenAI\n",
    "\n",
    "chat_llm = ChatOpenAI(model='gpt-3.5-turbo-16k', temperature=0.0)"
   ]
  },
  {
   "cell_type": "markdown",
   "id": "ccd77ab8",
   "metadata": {},
   "source": [
    "## Building the Prompt\n",
    "\n",
    "What the cool kids call Prompt Engineering."
   ]
  },
  {
   "cell_type": "code",
   "execution_count": 4,
   "id": "fca1effc",
   "metadata": {},
   "outputs": [],
   "source": [
    "from langchain.prompts import (\n",
    "    ChatPromptTemplate,\n",
    "    PromptTemplate,\n",
    "    SystemMessagePromptTemplate\n",
    ")\n",
    "\n",
    "prompt = PromptTemplate(\n",
    "    template=\"I am providing a JSON Schema followed by a resume in plain text. Format the plain text into the JSON format.\\n{format_instructions}\\n{resume}\\n\",\n",
    "    input_variables=[\"resume\"],\n",
    "    partial_variables={\n",
    "        \"format_instructions\": resume_output_parser.get_format_instructions()\n",
    "    },\n",
    ")\n",
    "\n",
    "system_message_prompt = SystemMessagePromptTemplate(prompt=prompt)\n",
    "chat_prompt = ChatPromptTemplate.from_messages([system_message_prompt])"
   ]
  },
  {
   "cell_type": "markdown",
   "id": "f4d8264d",
   "metadata": {},
   "source": [
    "# Trying it out"
   ]
  },
  {
   "cell_type": "markdown",
   "id": "74d09401",
   "metadata": {},
   "source": [
    "## Taking resume input"
   ]
  },
  {
   "cell_type": "markdown",
   "id": "78a64466",
   "metadata": {},
   "source": [
    "This is a **fictional human being**, a resume generated by ChatGPT with GPT-4."
   ]
  },
  {
   "cell_type": "code",
   "execution_count": 5,
   "id": "200d7da6",
   "metadata": {},
   "outputs": [],
   "source": [
    "with open('test_data/fictional-resume.md') as input_file:\n",
    "    resume_content = input_file.read()"
   ]
  },
  {
   "cell_type": "code",
   "execution_count": 6,
   "id": "335cd291",
   "metadata": {},
   "outputs": [
    {
     "name": "stdout",
     "output_type": "stream",
     "text": [
      "**Jonathon Bracken**\n",
      "\n",
      "1234 Silicon Valley Rd., San Jose, CA 95126\n",
      "(408) 123-4567 | jonathon.bracken@example.com\n",
      "LinkedIn: linkedin.com/in/jonathon-bracken\n",
      "\n",
      "**Objective**\n",
      "A versatile Software Engineer with over 10 years of diverse experience in front-end, back-end, and Android firmware engineering roles. Eager to apply problem-solving abilities and technical expertise in a challenging new role.\n",
      "\n",
      "---\n",
      "\n",
      "**Skills**\n",
      "\n",
      "- Programming languages: Java, JavaScript, Python, C++, C#, Kotlin, Swift, SQL\n",
      "- Web Technologies: HTML, CSS, React, AngularJS, Node.js, Express.js, REST APIs\n",
      "- Databases: MySQL, PostgreSQL, MongoDB, Redis\n",
      "- Android Firmware: Android Open Source Project (AOSP), Linux Kernel, Custom ROM Development\n",
      "- Tools: Git, Docker, Jenkins, Jira, Agile/Scrum methodologies\n",
      "- Soft Skills: Communication, Leadership, Problem Solving, Teamwork, Adaptability\n",
      "\n",
      "---\n",
      "\n",
      "**Work Experience**\n",
      "\n",
      "**Senior Software Engineer | HoloWare Inc.**\n",
      "*San Jose, CA | February 2021 - Present*\n",
      "\n",
      "- Lead the development team of HoloLens, a holographic glasses project, developing firmware based on Android Open Source Project (AOSP).\n",
      "- Enhanced system performance by optimizing Linux Kernel and effectively reduced boot-up time by 30%.\n",
      "- Assisted in the development of several in-house tools to facilitate rapid firmware testing and deployment.\n",
      "\n",
      "**Full Stack Developer | Nebula Dynamics**\n",
      "*Mountain View, CA | June 2017 - February 2021*\n",
      "\n",
      "- Contributed to a team responsible for developing Nebula Cloud Suite, a comprehensive suite of cloud-based tools for businesses.\n",
      "- Developed RESTful APIs using Node.js and Express, which served over 1M requests per day with an average response time of 200ms.\n",
      "- Created responsive and interactive front-end interfaces with React and AngularJS that increased user engagement by 50%.\n",
      "- Managed PostgreSQL and MongoDB databases, ensuring 99.99% uptime.\n",
      "\n",
      "**Software Engineer | RoboSphere**\n",
      "*San Francisco, CA | August 2013 - June 2017*\n",
      "\n",
      "- Worked as part of a team developing robotic navigation and control software.\n",
      "- Implemented algorithms for path planning, obstacle avoidance, and SLAM (Simultaneous Localization and Mapping) in C++ and Python.\n",
      "- Developed and maintained the company's main website, creating a responsive UI with HTML, CSS, and JavaScript.\n",
      "\n",
      "---\n",
      "\n",
      "**Education**\n",
      "\n",
      "**Bachelor of Science in Computer Science**\n",
      "*Stanford University, Stanford, CA*\n",
      "*September 2009 - June 2013*\n",
      "\n",
      "---\n",
      "\n",
      "**Certifications**\n",
      "\n",
      "- Oracle Certified Professional, Java SE 8 Programmer\n",
      "- Microsoft Certified: Azure Developer Associate\n",
      "\n",
      "---\n",
      "\n",
      "**References**\n",
      "\n",
      "Available upon request.\n",
      "\n"
     ]
    }
   ],
   "source": [
    "print(resume_content)"
   ]
  },
  {
   "cell_type": "markdown",
   "id": "2c7ce8b5",
   "metadata": {},
   "source": [
    "## Feed in the Resume"
   ]
  },
  {
   "cell_type": "code",
   "execution_count": 7,
   "id": "3c63c30c",
   "metadata": {},
   "outputs": [
    {
     "name": "stdout",
     "output_type": "stream",
     "text": [
      "CPU times: user 15.6 ms, sys: 8.05 ms, total: 23.7 ms\n",
      "Wall time: 13.3 s\n"
     ]
    }
   ],
   "source": [
    "%%time\n",
    "\n",
    "formatted_message = chat_prompt.format_prompt(resume=resume_content)\n",
    "\n",
    "output = chat_llm(formatted_message.to_messages())"
   ]
  },
  {
   "cell_type": "markdown",
   "id": "86a83186",
   "metadata": {},
   "source": [
    "### Initial Output\n",
    "From first attempt. We may need to push this through to OutputFixingParser."
   ]
  },
  {
   "cell_type": "code",
   "execution_count": 8,
   "id": "0c3486fa",
   "metadata": {},
   "outputs": [
    {
     "name": "stdout",
     "output_type": "stream",
     "text": [
      "{\n",
      "  \"experiences\": [\n",
      "    {\n",
      "      \"title\": \"Senior Software Engineer\",\n",
      "      \"organization\": \"HoloWare Inc.\",\n",
      "      \"start_date\": \"February 2021\",\n",
      "      \"end_date\": null,\n",
      "      \"achievements\": [\n",
      "        \"Lead the development team of HoloLens, a holographic glasses project, developing firmware based on Android Open Source Project (AOSP).\",\n",
      "        \"Enhanced system performance by optimizing Linux Kernel and effectively reduced boot-up time by 30%.\",\n",
      "        \"Assisted in the development of several in-house tools to facilitate rapid firmware testing and deployment.\"\n",
      "      ],\n",
      "      \"responsibilities\": []\n",
      "    },\n",
      "    {\n",
      "      \"title\": \"Full Stack Developer\",\n",
      "      \"organization\": \"Nebula Dynamics\",\n",
      "      \"start_date\": \"June 2017\",\n",
      "      \"end_date\": \"February 2021\",\n",
      "      \"achievements\": [\n",
      "        \"Contributed to a team responsible for developing Nebula Cloud Suite, a comprehensive suite of cloud-based tools for businesses.\",\n",
      "        \"Developed RESTful APIs using Node.js and Express, which served over 1M requests per day with an average response time of 200ms.\",\n",
      "        \"Created responsive and interactive front-end interfaces with React and AngularJS that increased user engagement by 50%.\",\n",
      "        \"Managed PostgreSQL and MongoDB databases, ensuring 99.99% uptime.\"\n",
      "      ],\n",
      "      \"responsibilities\": []\n",
      "    },\n",
      "    {\n",
      "      \"title\": \"Software Engineer\",\n",
      "      \"organization\": \"RoboSphere\",\n",
      "      \"start_date\": \"August 2013\",\n",
      "      \"end_date\": \"June 2017\",\n",
      "      \"achievements\": [\n",
      "        \"Worked as part of a team developing robotic navigation and control software.\",\n",
      "        \"Implemented algorithms for path planning, obstacle avoidance, and SLAM (Simultaneous Localization and Mapping) in C++ and Python.\",\n",
      "        \"Developed and maintained the company's main website, creating a responsive UI with HTML, CSS, and JavaScript.\"\n",
      "      ],\n",
      "      \"responsibilities\": []\n",
      "    }\n",
      "  ],\n",
      "  \"education_history\": [\n",
      "    {\n",
      "      \"education_level\": \"university\",\n",
      "      \"credential_name\": \"Bachelor of Science in Computer Science\",\n",
      "      \"institution_name\": \"Stanford University\",\n",
      "      \"start_date\": \"September 2009\",\n",
      "      \"end_date\": \"June 2013\",\n",
      "      \"description\": \"\"\n",
      "    }\n",
      "  ],\n",
      "  \"skills\": [\n",
      "    \"Java\",\n",
      "    \"JavaScript\",\n",
      "    \"Python\",\n",
      "    \"C++\",\n",
      "    \"C#\",\n",
      "    \"Kotlin\",\n",
      "    \"Swift\",\n",
      "    \"SQL\",\n",
      "    \"HTML\",\n",
      "    \"CSS\",\n",
      "    \"React\",\n",
      "    \"AngularJS\",\n",
      "    \"Node.js\",\n",
      "    \"Express.js\",\n",
      "    \"REST APIs\",\n",
      "    \"MySQL\",\n",
      "    \"PostgreSQL\",\n",
      "    \"MongoDB\",\n",
      "    \"Redis\",\n",
      "    \"Android Open Source Project (AOSP)\",\n",
      "    \"Linux Kernel\",\n",
      "    \"Custom ROM Development\",\n",
      "    \"Git\",\n",
      "    \"Docker\",\n",
      "    \"Jenkins\",\n",
      "    \"Jira\",\n",
      "    \"Agile/Scrum methodologies\",\n",
      "    \"Communication\",\n",
      "    \"Leadership\",\n",
      "    \"Problem Solving\",\n",
      "    \"Teamwork\",\n",
      "    \"Adaptability\"\n",
      "  ],\n",
      "  \"certifications\": [\n",
      "    \"Oracle Certified Professional, Java SE 8 Programmer\",\n",
      "    \"Microsoft Certified: Azure Developer Associate\"\n",
      "  ]\n",
      "}\n"
     ]
    }
   ],
   "source": [
    "import json\n",
    "\n",
    "print(output.content)"
   ]
  },
  {
   "cell_type": "markdown",
   "id": "a19695c9",
   "metadata": {},
   "source": [
    "### Get Output Fixing Parser to Take over\n",
    "\n",
    "Chat with OpenAI to alleviate complaints from `pydantic`. We are using OutputFixingParser.\n",
    "\n",
    "References:\n",
    " - https://python.langchain.com/docs/modules/model_io/output_parsers/retry"
   ]
  },
  {
   "cell_type": "code",
   "execution_count": null,
   "id": "a79456d1",
   "metadata": {},
   "outputs": [],
   "source": [
    "%%time\n",
    "\n",
    "from langchain.output_parsers import OutputFixingParser\n",
    "output_fixing_parser = OutputFixingParser.from_llm(parser=resume_output_parser, llm=chat_llm)\n",
    "\n",
    "resume = output_fixing_parser.parse(output.content).dict()"
   ]
  },
  {
   "cell_type": "code",
   "execution_count": null,
   "id": "22741a94",
   "metadata": {
    "scrolled": true
   },
   "outputs": [],
   "source": [
    "import json\n",
    "\n",
    "json_formatted_str = json.dumps(resume, indent=2, default=str)\n",
    "print(json_formatted_str)"
   ]
  }
 ],
 "metadata": {
  "kernelspec": {
   "display_name": "Python 3 (ipykernel)",
   "language": "python",
   "name": "python3"
  },
  "language_info": {
   "codemirror_mode": {
    "name": "ipython",
    "version": 3
   },
   "file_extension": ".py",
   "mimetype": "text/x-python",
   "name": "python",
   "nbconvert_exporter": "python",
   "pygments_lexer": "ipython3",
   "version": "3.11.4"
  }
 },
 "nbformat": 4,
 "nbformat_minor": 5
}
