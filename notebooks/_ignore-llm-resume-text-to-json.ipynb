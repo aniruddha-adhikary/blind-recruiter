{
 "cells": [
  {
   "cell_type": "markdown",
   "id": "e7466516",
   "metadata": {},
   "source": [
    "# Setup"
   ]
  },
  {
   "cell_type": "markdown",
   "id": "4345df0a",
   "metadata": {},
   "source": [
    "## Setting up Output Format using Pydantic"
   ]
  },
  {
   "cell_type": "code",
   "execution_count": 1,
   "id": "b7ce4c53",
   "metadata": {},
   "outputs": [],
   "source": [
    "from pydantic import BaseModel, Field\n",
    "from typing import List, Optional\n",
    "\n",
    "class Experience(BaseModel):\n",
    "    title: str = Field(description=\"Job title\")\n",
    "    organization: str = Field(description=\"Organization name\")\n",
    "    start_date: str = Field(description=\"Start date\")\n",
    "    end_date: Optional[str] = Field(description=\"End date\")\n",
    "    description: str = Field(description=\"Job description\")\n",
    "\n",
    "class Education(BaseModel):\n",
    "    credential_name: str = Field(description=\"Credential name\")\n",
    "    institution_name: str = Field(description=\"Institution name\")\n",
    "    start_date: str = Field(description=\"Start date\")\n",
    "    end_date: str = Field(description=\"End date\")\n",
    "    description: str = Field(description=\"Education description\")\n",
    "\n",
    "class ParsedResume(BaseModel):\n",
    "#     github_url: str = Field(description=\"Github Profile URL\")\n",
    "#     linkedin_url: str = Field(description=\"Linkedin Profile URL\")\n",
    "    experiences: List[Experience] = Field(description=\"List of experiences\")\n",
    "#     education_history: List[Education] = Field(description=\"List of education history\")"
   ]
  },
  {
   "cell_type": "code",
   "execution_count": 2,
   "id": "7c62b489",
   "metadata": {},
   "outputs": [],
   "source": [
    "from langchain.output_parsers import PydanticOutputParser\n",
    "\n",
    "resume_output_parser = PydanticOutputParser(pydantic_object=ParsedResume)"
   ]
  },
  {
   "cell_type": "markdown",
   "id": "6e2aa4f6",
   "metadata": {},
   "source": [
    "## Set up Prompt"
   ]
  },
  {
   "cell_type": "code",
   "execution_count": 3,
   "id": "748a0e29",
   "metadata": {},
   "outputs": [],
   "source": [
    "from langchain.prompts import PromptTemplate\n",
    "\n",
    "prompt = PromptTemplate(\n",
    "    template=\"I am providing a JSON Schema followed by a resume in plain text. Format the plain text into the JSON format.\\n{format_instructions}\\n{resume}\\n\",\n",
    "    input_variables=[\"resume\"],\n",
    "    partial_variables={\"format_instructions\": resume_output_parser.get_format_instructions()},\n",
    ")"
   ]
  },
  {
   "cell_type": "markdown",
   "id": "db6a0445",
   "metadata": {},
   "source": [
    "## Large-Language Model (LLM)"
   ]
  },
  {
   "cell_type": "code",
   "execution_count": 4,
   "id": "43308aa4",
   "metadata": {},
   "outputs": [],
   "source": [
    "from langchain.llms import OpenAI\n",
    "\n",
    "model_name = \"text-davinci-003\"\n",
    "temperature = 0.0\n",
    "model = OpenAI(model_name=model_name, temperature=temperature)"
   ]
  },
  {
   "cell_type": "markdown",
   "id": "f4d8264d",
   "metadata": {},
   "source": [
    "# Trying it out"
   ]
  },
  {
   "cell_type": "markdown",
   "id": "74d09401",
   "metadata": {},
   "source": [
    "## Taking resume input"
   ]
  },
  {
   "cell_type": "code",
   "execution_count": 5,
   "id": "200d7da6",
   "metadata": {},
   "outputs": [],
   "source": [
    "with open('test_data/fictional-resume.md') as input_file:\n",
    "    resume_content = input_file.read()"
   ]
  },
  {
   "cell_type": "code",
   "execution_count": 6,
   "id": "335cd291",
   "metadata": {},
   "outputs": [
    {
     "name": "stdout",
     "output_type": "stream",
     "text": [
      "**Jonathon Bracken**\n",
      "\n",
      "1234 Silicon Valley Rd., San Jose, CA 95126\n",
      "(408) 123-4567 | jonathon.bracken@example.com\n",
      "LinkedIn: linkedin.com/in/jonathon-bracken\n",
      "\n",
      "**Objective**\n",
      "A versatile Software Engineer with over 10 years of diverse experience in front-end, back-end, and Android firmware engineering roles. Eager to apply problem-solving abilities and technical expertise in a challenging new role.\n",
      "\n",
      "---\n",
      "\n",
      "**Skills**\n",
      "\n",
      "- Programming languages: Java, JavaScript, Python, C++, C#, Kotlin, Swift, SQL\n",
      "- Web Technologies: HTML, CSS, React, AngularJS, Node.js, Express.js, REST APIs\n",
      "- Databases: MySQL, PostgreSQL, MongoDB, Redis\n",
      "- Android Firmware: Android Open Source Project (AOSP), Linux Kernel, Custom ROM Development\n",
      "- Tools: Git, Docker, Jenkins, Jira, Agile/Scrum methodologies\n",
      "- Soft Skills: Communication, Leadership, Problem Solving, Teamwork, Adaptability\n",
      "\n",
      "---\n",
      "\n",
      "**Work Experience**\n",
      "\n",
      "**Senior Software Engineer | HoloWare Inc.**\n",
      "*San Jose, CA | February 2021 - Present*\n",
      "\n",
      "- Lead the development team of HoloLens, a holographic glasses project, developing firmware based on Android Open Source Project (AOSP).\n",
      "- Enhanced system performance by optimizing Linux Kernel and effectively reduced boot-up time by 30%.\n",
      "- Assisted in the development of several in-house tools to facilitate rapid firmware testing and deployment.\n",
      "\n",
      "**Full Stack Developer | Nebula Dynamics**\n",
      "*Mountain View, CA | June 2017 - February 2021*\n",
      "\n",
      "- Contributed to a team responsible for developing Nebula Cloud Suite, a comprehensive suite of cloud-based tools for businesses.\n",
      "- Developed RESTful APIs using Node.js and Express, which served over 1M requests per day with an average response time of 200ms.\n",
      "- Created responsive and interactive front-end interfaces with React and AngularJS that increased user engagement by 50%.\n",
      "- Managed PostgreSQL and MongoDB databases, ensuring 99.99% uptime.\n",
      "\n",
      "**Software Engineer | RoboSphere**\n",
      "*San Francisco, CA | August 2013 - June 2017*\n",
      "\n",
      "- Worked as part of a team developing robotic navigation and control software.\n",
      "- Implemented algorithms for path planning, obstacle avoidance, and SLAM (Simultaneous Localization and Mapping) in C++ and Python.\n",
      "- Developed and maintained the company's main website, creating a responsive UI with HTML, CSS, and JavaScript.\n",
      "\n",
      "---\n",
      "\n",
      "**Education**\n",
      "\n",
      "**Bachelor of Science in Computer Science**\n",
      "*Stanford University, Stanford, CA*\n",
      "*September 2009 - June 2013*\n",
      "\n",
      "---\n",
      "\n",
      "**Certifications**\n",
      "\n",
      "- Oracle Certified Professional, Java SE 8 Programmer\n",
      "- Microsoft Certified: Azure Developer Associate\n",
      "\n",
      "---\n",
      "\n",
      "**References**\n",
      "\n",
      "Available upon request.\n",
      "\n"
     ]
    }
   ],
   "source": [
    "print(resume_content)"
   ]
  },
  {
   "cell_type": "code",
   "execution_count": 7,
   "id": "5683e670",
   "metadata": {},
   "outputs": [],
   "source": [
    "_input = prompt.format_prompt(resume=resume_content)"
   ]
  },
  {
   "cell_type": "code",
   "execution_count": 8,
   "id": "3ddd3841",
   "metadata": {},
   "outputs": [],
   "source": [
    "output = model(_input.to_string())"
   ]
  },
  {
   "cell_type": "code",
   "execution_count": 9,
   "id": "452b3bbe",
   "metadata": {},
   "outputs": [],
   "source": [
    "from langchain.output_parsers import OutputFixingParser\n",
    "from langchain.chat_models import ChatOpenAI\n",
    "\n",
    "output_fixing_parser = OutputFixingParser.from_llm(parser=resume_output_parser, llm=ChatOpenAI())"
   ]
  },
  {
   "cell_type": "code",
   "execution_count": 10,
   "id": "22741a94",
   "metadata": {},
   "outputs": [],
   "source": [
    "resume = output_fixing_parser.parse(output)"
   ]
  },
  {
   "cell_type": "code",
   "execution_count": 11,
   "id": "d574075f",
   "metadata": {},
   "outputs": [
    {
     "name": "stdout",
     "output_type": "stream",
     "text": [
      "{\n",
      "  \"experiences\": [\n",
      "    {\n",
      "      \"title\": \"Senior Software Engineer\",\n",
      "      \"organization\": \"HoloWare Inc.\",\n",
      "      \"start_date\": \"February 2021\",\n",
      "      \"end_date\": \"Present\",\n",
      "      \"description\": \"Lead the development team of HoloLens, a holographic glasses project, developing firmware based on Android Open Source Project (AOSP). Enhanced system performance by optimizing Linux Kernel and effectively reduced boot-up time by 30%. Assisted in the development of several in-house tools to facilitate rapid firmware testing and deployment.\"\n",
      "    },\n",
      "    {\n",
      "      \"title\": \"Full Stack Developer\",\n",
      "      \"organization\": \"Nebula Dynamics\",\n",
      "      \"start_date\": \"June 2017\",\n",
      "      \"end_date\": \"February 2021\",\n",
      "      \"description\": \"Contributed to a team responsible for developing Nebula Cloud Suite, a comprehensive suite of cloud-based tools for businesses. Developed RESTful APIs using Node.js and Express, which served over 1M requests per day with an average response time of 200ms. Created responsive and interactive front-end interfaces with React.js and Redux.\"\n",
      "    }\n",
      "  ]\n",
      "}\n"
     ]
    }
   ],
   "source": [
    "import json\n",
    "json_formatted_str = json.dumps(resume.dict(), indent=2)\n",
    "print(json_formatted_str)"
   ]
  },
  {
   "cell_type": "code",
   "execution_count": null,
   "id": "4e4f3fe0",
   "metadata": {},
   "outputs": [],
   "source": []
  }
 ],
 "metadata": {
  "kernelspec": {
   "display_name": "Python 3 (ipykernel)",
   "language": "python",
   "name": "python3"
  },
  "language_info": {
   "codemirror_mode": {
    "name": "ipython",
    "version": 3
   },
   "file_extension": ".py",
   "mimetype": "text/x-python",
   "name": "python",
   "nbconvert_exporter": "python",
   "pygments_lexer": "ipython3",
   "version": "3.11.4"
  }
 },
 "nbformat": 4,
 "nbformat_minor": 5
}
